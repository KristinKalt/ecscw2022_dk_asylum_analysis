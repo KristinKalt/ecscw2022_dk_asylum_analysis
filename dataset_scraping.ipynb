{
 "cells": [
  {
   "cell_type": "code",
   "execution_count": 1,
   "id": "60c2b63c",
   "metadata": {},
   "outputs": [],
   "source": [
    "import bs4\n",
    "import requests\n",
    "import json\n",
    "from selenium import webdriver\n",
    "from selenium.webdriver.common.action_chains import ActionChains\n",
    "import selenium"
   ]
  },
  {
   "cell_type": "markdown",
   "id": "128c98ea",
   "metadata": {},
   "source": [
    "The following code uses Firefox, if you use another browser, don't forget to adjust the below code with the browser of your choice"
   ]
  },
  {
   "cell_type": "code",
   "execution_count": 2,
   "id": "d6fed40f",
   "metadata": {},
   "outputs": [
    {
     "name": "stderr",
     "output_type": "stream",
     "text": [
      "/tmp/ipykernel_284323/1834746117.py:5: DeprecationWarning: find_element_by_* commands are deprecated. Please use find_element() instead\n",
      "  browser.find_element_by_id(\"SearchSubmitButton\").click()\n",
      "/tmp/ipykernel_284323/1834746117.py:6: DeprecationWarning: find_element_by_* commands are deprecated. Please use find_element() instead\n",
      "  browser.find_element_by_link_text(\"Alle resultater\").click()\n"
     ]
    }
   ],
   "source": [
    "url = 'https://fln.dk/da/Praksis'\n",
    "browser  = webdriver.Firefox()\n",
    "browser.get(url)\n",
    "\n",
    "browser.find_element_by_id(\"SearchSubmitButton\").click()\n",
    "browser.find_element_by_link_text(\"Alle resultater\").click()"
   ]
  },
  {
   "cell_type": "markdown",
   "id": "5633aa1a",
   "metadata": {},
   "source": [
    "Now, a new window will open in the browser specified. It can take up to a minute until \"Alle resultater\" is not underlined anymore"
   ]
  },
  {
   "cell_type": "code",
   "execution_count": 3,
   "id": "48f24d4b",
   "metadata": {},
   "outputs": [
    {
     "name": "stdout",
     "output_type": "stream",
     "text": [
      "Extracted cases:  9301\n"
     ]
    }
   ],
   "source": [
    "soup=bs4.BeautifulSoup(browser.page_source, 'html.parser')\n",
    "cases = soup.find_all(\"p\", {\"class\": \"lineover\"})\n",
    "print(\"Extracted cases: \", len(cases))"
   ]
  },
  {
   "cell_type": "markdown",
   "id": "f2033caa",
   "metadata": {},
   "source": [
    "Extracting cases for the html object into python objects:"
   ]
  },
  {
   "cell_type": "code",
   "execution_count": 15,
   "id": "5e097f1d",
   "metadata": {},
   "outputs": [
    {
     "name": "stdout",
     "output_type": "stream",
     "text": [
      "Cases that are stored in a python list now: 9301\n",
      "Of the cases in the list, how many have a text summary: 8861\n"
     ]
    }
   ],
   "source": [
    "case_list = []\n",
    "count = 0\n",
    "\n",
    "for id, case in enumerate(cases):\n",
    "    item = {}\n",
    "    #strongs contain the 'emneord', these are the asylum motives\n",
    "    strongs = case.find_all('strong')\n",
    "    emne_raw = strongs[0].get_text().strip('\\n')\n",
    "    cleaned_asylmotive_string = \" \".join(emne_raw.split()).strip()\n",
    "    asylmotive_list = cleaned_asylmotive_string.replace('Emneord: ', '').split(',')\n",
    "    \n",
    "    #extracting country of origin\n",
    "    country_raw = strongs[1].get_text()\n",
    "    country = country_raw.replace('Land: ', '')\n",
    "    \n",
    "    #cleaning up the summary, there are a lot of empty lines\n",
    "    text_raw = case.get_text().split('\\n')\n",
    "    for string in text_raw:\n",
    "        if len(string) > 300:\n",
    "            text = string\n",
    "            count = count + 1\n",
    "            hasText = True\n",
    "            break\n",
    "    \n",
    "    item['id'] = id\n",
    "    item['asylum_motive'] = asylmotive_list\n",
    "    item['country'] = country\n",
    "    item['text'] = text\n",
    "    item['hasText'] = hasText\n",
    "    case_list.append(item)\n",
    "    \n",
    "print(\"Cases that are stored in a python list now:\", len(case_list))\n",
    "print(\"Of the cases in the list, how many have a text summary:\", count)"
   ]
  },
  {
   "cell_type": "code",
   "execution_count": 16,
   "id": "3bcb0c75",
   "metadata": {},
   "outputs": [],
   "source": [
    "with open('data/dk_asylum_data.json', 'w') as file:\n",
    "    json.dump(case_list, file)"
   ]
  }
 ],
 "metadata": {
  "kernelspec": {
   "display_name": "Python 3 (ipykernel)",
   "language": "python",
   "name": "python3"
  },
  "language_info": {
   "codemirror_mode": {
    "name": "ipython",
    "version": 3
   },
   "file_extension": ".py",
   "mimetype": "text/x-python",
   "name": "python",
   "nbconvert_exporter": "python",
   "pygments_lexer": "ipython3",
   "version": "3.8.10"
  }
 },
 "nbformat": 4,
 "nbformat_minor": 5
}
